{
  "nbformat": 4,
  "nbformat_minor": 0,
  "metadata": {
    "colab": {
      "provenance": [],
      "authorship_tag": "ABX9TyMitTN5/kO9lIWSnFko1KlR",
      "include_colab_link": true
    },
    "kernelspec": {
      "name": "python3",
      "display_name": "Python 3"
    },
    "language_info": {
      "name": "python"
    }
  },
  "cells": [
    {
      "cell_type": "markdown",
      "metadata": {
        "id": "view-in-github",
        "colab_type": "text"
      },
      "source": [
        "<a href=\"https://colab.research.google.com/github/2303A51085/B2_PFDS_1085/blob/main/Lab3Aug14.ipynb\" target=\"_parent\"><img src=\"https://colab.research.google.com/assets/colab-badge.svg\" alt=\"Open In Colab\"/></a>"
      ]
    },
    {
      "cell_type": "code",
      "execution_count": 1,
      "metadata": {
        "colab": {
          "base_uri": "https://localhost:8080/"
        },
        "id": "YhpP0qrT8pAP",
        "outputId": "afdfc3ae-5a42-401c-92df-add1c9a53439"
      },
      "outputs": [
        {
          "output_type": "stream",
          "name": "stdout",
          "text": [
            "Matrix A:\n",
            " [[2 6 1]\n",
            " [5 6 8]\n",
            " [7 3 4]]\n",
            "Matrix B:\n",
            " [[4 3 3]\n",
            " [6 5 7]\n",
            " [3 8 1]]\n",
            "\n",
            "Addition (A + B):\n",
            " [[ 6  9  4]\n",
            " [11 11 15]\n",
            " [10 11  5]]\n",
            "\n",
            "Subtraction (A - B):\n",
            " [[-2  3 -2]\n",
            " [-1  1  1]\n",
            " [ 4 -5  3]]\n",
            "\n",
            "Verification for element (0,0): 2 + 4 = 6\n",
            "Verification for element (0,0): 2 - 4 = -2\n"
          ]
        }
      ],
      "source": [
        "import numpy as np\n",
        "\n",
        "A = np.random.randint(1, 11, size=(3, 3))\n",
        "B = np.random.randint(1, 11, size=(3, 3))\n",
        "\n",
        "add_result = np.add(A, B)\n",
        "sub_result = np.subtract(A, B)\n",
        "\n",
        "print(\"Matrix A:\\n\", A)\n",
        "print(\"Matrix B:\\n\", B)\n",
        "print(\"\\nAddition (A + B):\\n\", add_result)\n",
        "print(\"\\nSubtraction (A - B):\\n\", sub_result)\n",
        "\n",
        "row, col = 0, 0\n",
        "print(f\"\\nVerification for element (0,0): {A[row][col]} + {B[row][col]} = {add_result[row][col]}\")\n",
        "print(f\"Verification for element (0,0): {A[row][col]} - {B[row][col]} = {sub_result[row][col]}\")\n"
      ]
    },
    {
      "cell_type": "code",
      "source": [
        "import numpy as np\n",
        "\n",
        "\n",
        "A = np.random.randint(1, 10, (3, 2))\n",
        "B = np.random.randint(1, 10, (2, 3))\n",
        "\n",
        "print(\"Matrix A (3x2):\\n\", A)\n",
        "print(\"Matrix B (2x3):\\n\", B)\n",
        "\n",
        "\n",
        "C = np.dot(A, B)\n",
        "print(\"\\nDot Product Result (3x3):\\n\", C)\n",
        "\n",
        "\n",
        "\n",
        "manual_calc = A[0][0] * B[0][0] + A[0][1] * B[1][0]\n",
        "print(f\"\\nManual calculation for C[0][0]: {manual_calc}\")"
      ],
      "metadata": {
        "colab": {
          "base_uri": "https://localhost:8080/"
        },
        "id": "2OQ_h-KhBVTc",
        "outputId": "36248219-3381-4833-a2bd-385d15a94b98"
      },
      "execution_count": 2,
      "outputs": [
        {
          "output_type": "stream",
          "name": "stdout",
          "text": [
            "Matrix A (3x2):\n",
            " [[7 2]\n",
            " [3 7]\n",
            " [2 6]]\n",
            "Matrix B (2x3):\n",
            " [[7 7 3]\n",
            " [2 8 7]]\n",
            "\n",
            "Dot Product Result (3x3):\n",
            " [[53 65 35]\n",
            " [35 77 58]\n",
            " [26 62 48]]\n",
            "\n",
            "Manual calculation for C[0][0]: 53\n"
          ]
        }
      ]
    }
  ]
}