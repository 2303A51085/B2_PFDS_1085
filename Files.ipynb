{
  "nbformat": 4,
  "nbformat_minor": 0,
  "metadata": {
    "colab": {
      "provenance": [],
      "authorship_tag": "ABX9TyOq/wB/WIzwYCxSw2xgXmMS",
      "include_colab_link": true
    },
    "kernelspec": {
      "name": "python3",
      "display_name": "Python 3"
    },
    "language_info": {
      "name": "python"
    }
  },
  "cells": [
    {
      "cell_type": "markdown",
      "metadata": {
        "id": "view-in-github",
        "colab_type": "text"
      },
      "source": [
        "<a href=\"https://colab.research.google.com/github/2303A51085/B2_PFDS_1085/blob/main/Files.ipynb\" target=\"_parent\"><img src=\"https://colab.research.google.com/assets/colab-badge.svg\" alt=\"Open In Colab\"/></a>"
      ]
    },
    {
      "cell_type": "code",
      "execution_count": null,
      "metadata": {
        "colab": {
          "base_uri": "https://localhost:8080/"
        },
        "id": "Ur-uWyjUtODV",
        "outputId": "bdca81da-86d1-496f-ac14-471990c6bd1c"
      },
      "outputs": [
        {
          "output_type": "stream",
          "name": "stdout",
          "text": [
            "Data written successfully\n"
          ]
        }
      ],
      "source": [
        "fp=open(\"myexample.txt\",\"w\")\n",
        "fp.write(\"batch 1 to 6\\n\")\n",
        "fp.write(\"CSE\\n\")\n",
        "fp.write(\"SR University\\n\")\n",
        "fp.close()\n",
        "print(\"Data written successfully\")"
      ]
    },
    {
      "cell_type": "code",
      "source": [
        "file=open(\"myexample.txt\",\"r\")\n",
        "content=file.read()\n",
        "print(\"File Info\",content)\n",
        "file.close()"
      ],
      "metadata": {
        "colab": {
          "base_uri": "https://localhost:8080/"
        },
        "id": "SJLrDvoBufez",
        "outputId": "68f64a86-d2ea-4980-bd80-4404a2043ad9"
      },
      "execution_count": null,
      "outputs": [
        {
          "output_type": "stream",
          "name": "stdout",
          "text": [
            "File Info batch 1 to 6\n",
            "CSE\n",
            "SR University\n",
            "\n"
          ]
        }
      ]
    },
    {
      "cell_type": "code",
      "source": [
        "fp=open(\"myexample.txt\",\"r\")\n",
        "line1=fp.readline()\n",
        "line2=fp.readline()\n",
        "print(\"We have only one line\\n\",line1)\n",
        "print(line2)\n",
        "fp.close()"
      ],
      "metadata": {
        "colab": {
          "base_uri": "https://localhost:8080/"
        },
        "id": "6x56fKPJvaWI",
        "outputId": "8bd0be91-e25d-46ac-e35f-347181c397a9"
      },
      "execution_count": null,
      "outputs": [
        {
          "output_type": "stream",
          "name": "stdout",
          "text": [
            "We have only one line\n",
            " batch 1 to 6\n",
            "\n",
            "CSE\n",
            "\n"
          ]
        }
      ]
    },
    {
      "cell_type": "code",
      "source": [
        "fp=open(\"myexample.txt\",\"r\")\n",
        "line1=fp.readlines()\n",
        "print(\"all lines\",line1)"
      ],
      "metadata": {
        "colab": {
          "base_uri": "https://localhost:8080/"
        },
        "id": "UbokeWaKwTLw",
        "outputId": "982946e5-dac9-45c9-d902-05b99ef0604d"
      },
      "execution_count": null,
      "outputs": [
        {
          "output_type": "stream",
          "name": "stdout",
          "text": [
            "all lines ['batch 1 to 6\\n', 'CSE\\n', 'SR University\\n', 'batch 1 to 6\\n', 'CSE\\n', 'SR University\\n']\n"
          ]
        }
      ]
    },
    {
      "cell_type": "code",
      "source": [
        "fp=open(\"myexample.txt\",\"a\")\n",
        "text=fp.write(\"Students Result\")\n",
        "print(\"Data appended successfully\")\n",
        "fp.close()"
      ],
      "metadata": {
        "colab": {
          "base_uri": "https://localhost:8080/"
        },
        "id": "KFX1dKfJwTQi",
        "outputId": "8d0f4a4d-f36c-43ed-c81b-64efec046106"
      },
      "execution_count": null,
      "outputs": [
        {
          "output_type": "stream",
          "name": "stdout",
          "text": [
            "Data appended successfully\n"
          ]
        }
      ]
    },
    {
      "cell_type": "code",
      "source": [
        "with open(\"myexample.txt\",\"r\") as fp:\n",
        "    content=fp.read()\n",
        "    print(content)"
      ],
      "metadata": {
        "colab": {
          "base_uri": "https://localhost:8080/"
        },
        "id": "1vXvFojVyKcs",
        "outputId": "71835587-1580-4736-ccba-26161fdd6797"
      },
      "execution_count": null,
      "outputs": [
        {
          "output_type": "stream",
          "name": "stdout",
          "text": [
            "batch 1 to 6\n",
            "CSE\n",
            "SR University\n",
            "batch 1 to 6\n",
            "CSE\n",
            "SR University\n",
            "Students Result\n"
          ]
        }
      ]
    },
    {
      "cell_type": "code",
      "source": [
        "# Working with CSV Files\n",
        "import csv\n",
        "# Writing to CSV\n",
        "with open('Trading.csv', 'w') as fp:\n",
        "    wr = csv.writer(fp)\n",
        "    wr.writerow([\"Name\", \"Age\", \"Gender\", \"Course\"])\n",
        "    wr.writerow([\"Anoop\", \"20\", \"MALE\", \"CSE\"])\n",
        "    wr.writerow([\"Abhilash\", \"107\", \"FEMALE\", \"IT\"])"
      ],
      "metadata": {
        "id": "SSWslEiUyfBl"
      },
      "execution_count": null,
      "outputs": []
    },
    {
      "cell_type": "code",
      "metadata": {
        "colab": {
          "base_uri": "https://localhost:8080/"
        },
        "id": "af21fba7",
        "outputId": "ecf570a4-93ae-4124-8d09-8b192f43f445"
      },
      "source": [
        "with open('Trading.csv', 'r') as fp:\n",
        "    data=csv.reader(fp)\n",
        "    for row in data:\n",
        "        print(row)"
      ],
      "execution_count": null,
      "outputs": [
        {
          "output_type": "stream",
          "name": "stdout",
          "text": [
            "['Name', 'Age', 'Gender', 'Course']\n",
            "['Anoop', '20', 'MALE', 'CSE']\n",
            "['Abhilash', '107', 'FEMALE', 'IT']\n"
          ]
        }
      ]
    },
    {
      "cell_type": "code",
      "source": [
        "# Classroom Test\n",
        "\n",
        "# Take user input\n",
        "name = input(\"Enter student name: \")\n",
        "marks = input(\"Enter student marks: \")\n",
        "\n",
        "# Write to file\n",
        "with open(\"students.txt\", \"a\") as file:\n",
        "    file.write(name + \",\" + marks + \"\\n\")\n",
        "\n",
        "# Read and display all entries\n",
        "print(\"\\nAll Entries in File:\")\n",
        "with open(\"students.txt\", \"r\") as file:\n",
        "    for line in file:\n",
        "        print(line.strip())\n"
      ],
      "metadata": {
        "colab": {
          "base_uri": "https://localhost:8080/"
        },
        "id": "SFlQbpyi5PTw",
        "outputId": "1840f971-157d-481c-f8e1-f3e20eb3fe39"
      },
      "execution_count": null,
      "outputs": [
        {
          "output_type": "stream",
          "name": "stdout",
          "text": [
            "Enter student name: Anoop\n",
            "Enter student marks: 99\n",
            "\n",
            "All Entries in File:\n",
            "Anoop,99\n"
          ]
        }
      ]
    }
  ]
}