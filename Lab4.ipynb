{
  "cells": [
    {
      "cell_type": "markdown",
      "metadata": {
        "id": "view-in-github",
        "colab_type": "text"
      },
      "source": [
        "<a href=\"https://colab.research.google.com/github/2303A51085/B2_PFDS_1085/blob/main/Lab4.ipynb\" target=\"_parent\"><img src=\"https://colab.research.google.com/assets/colab-badge.svg\" alt=\"Open In Colab\"/></a>"
      ]
    },
    {
      "cell_type": "code",
      "execution_count": null,
      "id": "e507571f",
      "metadata": {
        "id": "e507571f"
      },
      "outputs": [],
      "source": [
        "import numpy as np"
      ]
    },
    {
      "cell_type": "code",
      "execution_count": null,
      "id": "8a66fbb1",
      "metadata": {
        "id": "8a66fbb1",
        "outputId": "fc1bdc00-adbf-454c-853b-278adb50ef3e"
      },
      "outputs": [
        {
          "name": "stdout",
          "output_type": "stream",
          "text": [
            "One-dimensional array: [1 2 3 4 5]\n",
            "\n",
            "Two-dimensional array:\n",
            " [[1 2 3]\n",
            " [4 5 6]]\n"
          ]
        }
      ],
      "source": [
        "one_dimensional_array = np.array([1, 2, 3, 4, 5])\n",
        "print(\"One-dimensional array:\", one_dimensional_array)\n",
        "\n",
        "two_dimensional_array = np.array([[1, 2, 3], [4, 5, 6]])\n",
        "print(\"\\nTwo-dimensional array:\\n\", two_dimensional_array)"
      ]
    },
    {
      "cell_type": "code",
      "execution_count": null,
      "id": "59a7b520",
      "metadata": {
        "id": "59a7b520",
        "outputId": "551237eb-86fa-4025-f6ec-ba7ef783a29f"
      },
      "outputs": [
        {
          "name": "stdout",
          "output_type": "stream",
          "text": [
            "\n",
            "Sum of arrays:\n",
            " [[10 10 10]\n",
            " [10 10 10]\n",
            " [10 10 10]]\n",
            "\n",
            "Difference of arrays:\n",
            " [[-8 -6 -4]\n",
            " [-2  0  2]\n",
            " [ 4  6  8]]\n",
            "\n",
            "Element-wise product of arrays:\n",
            " [[ 9 16 21]\n",
            " [24 25 24]\n",
            " [21 16  9]]\n",
            "\n",
            "Element-wise division of arrays:\n",
            " [[0.11111111 0.25       0.42857143]\n",
            " [0.66666667 1.         1.5       ]\n",
            " [2.33333333 4.         9.        ]]\n"
          ]
        }
      ],
      "source": [
        "arr1 = np.array([[1, 2, 3], [4, 5, 6], [7, 8, 9]])\n",
        "arr2 = np.array([[9, 8, 7], [6, 5, 4], [3, 2, 1]])\n",
        "\n",
        "arr_sum = arr1 + arr2\n",
        "print(\"\\nSum of arrays:\\n\", arr_sum)\n",
        "\n",
        "arr_diff = arr1 - arr2\n",
        "print(\"\\nDifference of arrays:\\n\", arr_diff)\n",
        "\n",
        "arr_product = arr1 * arr2\n",
        "print(\"\\nElement-wise product of arrays:\\n\", arr_product)\n",
        "\n",
        "arr_division = arr1 / arr2\n",
        "print(\"\\nElement-wise division of arrays:\\n\", arr_division)"
      ]
    },
    {
      "cell_type": "code",
      "execution_count": null,
      "id": "dae9667f",
      "metadata": {
        "id": "dae9667f",
        "outputId": "514c6fc8-7258-42d3-f2b5-94a1cfc658e9"
      },
      "outputs": [
        {
          "name": "stdout",
          "output_type": "stream",
          "text": [
            "\n",
            "Transpose of arr1:\n",
            " [[1 4 7]\n",
            " [2 5 8]\n",
            " [3 6 9]]\n",
            "\n",
            "Dot product of arr1 and arr2:\n",
            " [[ 30  24  18]\n",
            " [ 84  69  54]\n",
            " [138 114  90]]\n",
            "\n",
            "Cross product of arr1 and arr2:\n",
            " [[-10  20 -10]\n",
            " [-10  20 -10]\n",
            " [-10  20 -10]]\n"
          ]
        }
      ],
      "source": [
        "arr_transpose = arr1.T\n",
        "print(\"\\nTranspose of arr1:\\n\", arr_transpose)\n",
        "\n",
        "arr_dot_product = np.dot(arr1, arr2)\n",
        "print(\"\\nDot product of arr1 and arr2:\\n\", arr_dot_product)\n",
        "\n",
        "arr_cross_product = np.cross(arr1, arr2)\n",
        "print(\"\\nCross product of arr1 and arr2:\\n\", arr_cross_product)"
      ]
    },
    {
      "cell_type": "code",
      "execution_count": null,
      "id": "992441d6",
      "metadata": {
        "id": "992441d6",
        "outputId": "c9d73117-ad8c-4184-fb41-b8d423aba6c8"
      },
      "outputs": [
        {
          "name": "stdout",
          "output_type": "stream",
          "text": [
            "\n",
            "Array of zeros:\n",
            " [[0. 0. 0.]\n",
            " [0. 0. 0.]\n",
            " [0. 0. 0.]]\n",
            "\n",
            "Array of ones:\n",
            " [[1. 1. 1.]\n",
            " [1. 1. 1.]\n",
            " [1. 1. 1.]]\n"
          ]
        }
      ],
      "source": [
        "\n",
        "zeros_array = np.zeros((3, 3))\n",
        "print(\"\\nArray of zeros:\\n\", zeros_array)\n",
        "\n",
        "ones_array = np.ones((3, 3))\n",
        "print(\"\\nArray of ones:\\n\", ones_array)"
      ]
    },
    {
      "cell_type": "code",
      "execution_count": null,
      "id": "97e2d6ec",
      "metadata": {
        "id": "97e2d6ec"
      },
      "outputs": [],
      "source": [
        "import random"
      ]
    },
    {
      "cell_type": "code",
      "execution_count": null,
      "id": "62b5a433",
      "metadata": {
        "id": "62b5a433",
        "outputId": "92da49cb-202e-4955-fa53-349e0fdeceac"
      },
      "outputs": [
        {
          "name": "stdout",
          "output_type": "stream",
          "text": [
            "\n",
            "Random array:\n",
            " [[0.11503381 0.77001802 0.030741  ]\n",
            " [0.36967545 0.8059754  0.98285617]]\n",
            "\n",
            "Random integer array:\n",
            " [[1 3 2]\n",
            " [5 3 7]]\n"
          ]
        }
      ],
      "source": [
        "random_array = np.random.rand(2, 3)\n",
        "print(\"\\nRandom array:\\n\", random_array)\n",
        "\n",
        "random_int_array = np.random.randint(1, 10, size=(2, 3))\n",
        "print(\"\\nRandom integer array:\\n\", random_int_array)"
      ]
    },
    {
      "cell_type": "code",
      "execution_count": null,
      "id": "21554584",
      "metadata": {
        "id": "21554584",
        "outputId": "ab28a6ea-5c0f-4a0c-c218-54b350f6d643"
      },
      "outputs": [
        {
          "name": "stdout",
          "output_type": "stream",
          "text": [
            "\n",
            "Array size: 9\n",
            "Array shape: (3, 3)\n",
            "Array dimensions: 2\n",
            "Array data type: int64\n",
            "\n",
            "Array contents:\n",
            " [[1 2 3]\n",
            " [4 5 6]\n",
            " [7 8 9]]\n"
          ]
        }
      ],
      "source": [
        "aray = np.array([[1, 2, 3], [4, 5, 6], [7, 8, 9]])\n",
        "print(\"\\nArray size:\", aray.size)\n",
        "print(\"Array shape:\", aray.shape)\n",
        "print(\"Array dimensions:\", aray.ndim)\n",
        "print(\"Array data type:\", aray.dtype)\n",
        "print(\"\\nArray contents:\\n\", aray)\n"
      ]
    },
    {
      "cell_type": "code",
      "execution_count": null,
      "id": "273cf9ee",
      "metadata": {
        "id": "273cf9ee",
        "outputId": "7a320b7b-7eda-406e-f43b-bd2a35576bcb"
      },
      "outputs": [
        {
          "name": "stdout",
          "output_type": "stream",
          "text": [
            "\n",
            "Broadcasting example:\n",
            " [[1. 2.]\n",
            " [3. 4.]]\n"
          ]
        }
      ],
      "source": [
        "Brodcasting_example = np.array([[1, 2], [3, 4]], dtype=np.float64)\n",
        "print(\"\\nBroadcasting example:\\n\", Brodcasting_example)"
      ]
    }
  ],
  "metadata": {
    "kernelspec": {
      "display_name": "Python 3",
      "language": "python",
      "name": "python3"
    },
    "language_info": {
      "codemirror_mode": {
        "name": "ipython",
        "version": 3
      },
      "file_extension": ".py",
      "mimetype": "text/x-python",
      "name": "python",
      "nbconvert_exporter": "python",
      "pygments_lexer": "ipython3",
      "version": "3.13.5"
    },
    "colab": {
      "provenance": [],
      "include_colab_link": true
    }
  },
  "nbformat": 4,
  "nbformat_minor": 5
}